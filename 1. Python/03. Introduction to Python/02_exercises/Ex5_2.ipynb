{
 "metadata": {
  "language_info": {
   "codemirror_mode": {
    "name": "ipython",
    "version": 3
   },
   "file_extension": ".py",
   "mimetype": "text/x-python",
   "name": "python",
   "nbconvert_exporter": "python",
   "pygments_lexer": "ipython3",
   "version": "3.8.8"
  },
  "orig_nbformat": 2,
  "kernelspec": {
   "name": "python388jvsc74a57bd0b1e21d487c014a4ee08b2c01296798d41267222f6e1ae8a0062bead66e07b9e9",
   "display_name": "Python 3.8.8 64-bit ('base': conda)"
  }
 },
 "nbformat": 4,
 "nbformat_minor": 2,
 "cells": [
  {
   "cell_type": "code",
   "execution_count": 1,
   "metadata": {},
   "outputs": [
    {
     "output_type": "stream",
     "name": "stdout",
     "text": [
      "100\n2\n4\n"
     ]
    }
   ],
   "source": [
    "a = [2, 4, 6, 12, 15, 99, 100]\n",
    "\n",
    "def largest(l):\n",
    "    largest_number = l[0]\n",
    "    for number in l:\n",
    "        if number > largest_number:\n",
    "            largest_number = number\n",
    "    return largest_number\n",
    "\n",
    "print(largest(a))\n",
    "\n",
    "def smallest(l):\n",
    "    smallest_number = l[0]\n",
    "    for number in l:\n",
    "        if number < smallest_number:\n",
    "            smallest_number = number\n",
    "    return smallest_number\n",
    "\n",
    "print(smallest(a))\n",
    "\n",
    "def dividable_by_3(l):\n",
    "    count_div = 0\n",
    "    for number in l:\n",
    "        if (number % 3 == 0):\n",
    "            count_div += 1\n",
    "    return count_div\n",
    "\n",
    "print(dividable_by_3(a))"
   ]
  },
  {
   "cell_type": "code",
   "execution_count": null,
   "metadata": {},
   "outputs": [],
   "source": []
  }
 ]
}