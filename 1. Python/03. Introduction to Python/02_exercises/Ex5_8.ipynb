{
 "metadata": {
  "language_info": {
   "codemirror_mode": {
    "name": "ipython",
    "version": 3
   },
   "file_extension": ".py",
   "mimetype": "text/x-python",
   "name": "python",
   "nbconvert_exporter": "python",
   "pygments_lexer": "ipython3",
   "version": "3.8.8"
  },
  "orig_nbformat": 2,
  "kernelspec": {
   "name": "python388jvsc74a57bd0b1e21d487c014a4ee08b2c01296798d41267222f6e1ae8a0062bead66e07b9e9",
   "display_name": "Python 3.8.8 64-bit ('base': conda)"
  }
 },
 "nbformat": 4,
 "nbformat_minor": 2,
 "cells": [
  {
   "cell_type": "code",
   "execution_count": 2,
   "metadata": {},
   "outputs": [
    {
     "output_type": "stream",
     "name": "stdout",
     "text": [
      " A = 2 \n B = 1 \n C = 7 \n D = 8\n"
     ]
    }
   ],
   "source": [
    "#Your Code Here\n",
    "# Solve 4*ABCD == DCBA\n",
    "def nested_nest():\n",
    "    numbers_0 = [0, 1, 2, 3, 4, 5, 6, 7, 8, 9]\n",
    "    numbers_n0 = [1, 2, 3, 4, 5, 6, 7, 8, 9]\n",
    "    A = numbers_n0[0]\n",
    "    B = numbers_0[0]\n",
    "    C = numbers_0[0]\n",
    "    D = numbers_n0[0]\n",
    "\n",
    "    for A in numbers_n0:\n",
    "        for B in numbers_0:\n",
    "            for C in numbers_0:\n",
    "                for D in numbers_n0:\n",
    "                    if 4 * (1000 * A + 100 * B + 10 * C + D) == (D * 1000 + C * 100 + B * 10 + A):\n",
    "                        print (\" A = %d \\n B = %d \\n C = %d \\n D = %d\" % (A, B, C, D))\n",
    "    return\n",
    "\n",
    "nested_nest()"
   ]
  },
  {
   "cell_type": "code",
   "execution_count": null,
   "metadata": {},
   "outputs": [],
   "source": []
  }
 ]
}