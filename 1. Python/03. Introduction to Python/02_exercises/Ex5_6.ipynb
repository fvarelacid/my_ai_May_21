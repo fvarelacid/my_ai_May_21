{
 "metadata": {
  "language_info": {
   "codemirror_mode": {
    "name": "ipython",
    "version": 3
   },
   "file_extension": ".py",
   "mimetype": "text/x-python",
   "name": "python",
   "nbconvert_exporter": "python",
   "pygments_lexer": "ipython3",
   "version": "3.8.8"
  },
  "orig_nbformat": 2,
  "kernelspec": {
   "name": "python388jvsc74a57bd0b1e21d487c014a4ee08b2c01296798d41267222f6e1ae8a0062bead66e07b9e9",
   "display_name": "Python 3.8.8 64-bit ('base': conda)"
  }
 },
 "nbformat": 4,
 "nbformat_minor": 2,
 "cells": [
  {
   "cell_type": "code",
   "execution_count": 15,
   "metadata": {},
   "outputs": [
    {
     "output_type": "stream",
     "name": "stdout",
     "text": [
      "[3, 5, 5, 5, 7, 7, 7, 7, 7, 9]\n"
     ]
    }
   ],
   "source": [
    "def prime_numbers(max_number):\n",
    "    prime_list = []\n",
    "    for i in range(2, max_number):\n",
    "        for j in range(2, i):\n",
    "            if i % j == 0:\n",
    "                break\n",
    "            else:\n",
    "                prime_list.append(i)\n",
    "    return prime_list\n",
    "\n",
    "print(prime_numbers(10))"
   ]
  },
  {
   "cell_type": "code",
   "execution_count": null,
   "metadata": {},
   "outputs": [],
   "source": []
  }
 ]
}